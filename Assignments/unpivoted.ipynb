{
  "metadata": {
    "application/vnd.databricks.v1+notebook": {
      "notebookName": "pyspark1",
      "dashboards": [],
      "notebookMetadata": {
        "pythonIndentUnit": 4
      },
      "language": "python",
      "widgets": {},
      "notebookOrigID": 15057535626196
    },
    "language_info": {
      "codemirror_mode": {
        "name": "python",
        "version": 3
      },
      "file_extension": ".py",
      "mimetype": "text/x-python",
      "name": "python",
      "nbconvert_exporter": "python",
      "pygments_lexer": "ipython3",
      "version": "3.8"
    },
    "kernelspec": {
      "name": "python",
      "display_name": "Python (Pyodide)",
      "language": "python"
    }
  },
  "nbformat_minor": 4,
  "nbformat": 4,
  "cells": [
    {
      "cell_type": "code",
      "source": "sc",
      "metadata": {
        "application/vnd.databricks.v1+cell": {
          "title": "",
          "showTitle": false,
          "inputWidgets": {},
          "nuid": "23a3b8e7-b48e-4001-a54c-56bc53b2d4ea"
        }
      },
      "execution_count": null,
      "outputs": [
        {
          "output_type": "display_data",
          "data": {
            "text/html": [
              "\n        <div>\n            <p><b>SparkContext</b></p>\n\n            <p><a href=\"/?o=3128991414051796#setting/sparkui/0912-115225-ew2w04lq/driver-3390272808502919450\">Spark UI</a></p>\n\n            <dl>\n              <dt>Version</dt>\n                <dd><code>v3.2.1</code></dd>\n              <dt>Master</dt>\n                <dd><code>local[8]</code></dd>\n              <dt>AppName</dt>\n                <dd><code>Databricks Shell</code></dd>\n            </dl>\n        </div>\n        "
            ]
          },
          "metadata": {
            "application/vnd.databricks.v1+output": {
              "datasetInfos": [],
              "data": "\n        <div>\n            <p><b>SparkContext</b></p>\n\n            <p><a href=\"/?o=3128991414051796#setting/sparkui/0912-115225-ew2w04lq/driver-3390272808502919450\">Spark UI</a></p>\n\n            <dl>\n              <dt>Version</dt>\n                <dd><code>v3.2.1</code></dd>\n              <dt>Master</dt>\n                <dd><code>local[8]</code></dd>\n              <dt>AppName</dt>\n                <dd><code>Databricks Shell</code></dd>\n            </dl>\n        </div>\n        ",
              "textData": null,
              "removedWidgets": [],
              "addedWidgets": {},
              "metadata": {},
              "type": "htmlSandbox",
              "arguments": {}
            }
          }
        }
      ]
    },
    {
      "cell_type": "code",
      "source": "print(spark)",
      "metadata": {
        "application/vnd.databricks.v1+cell": {
          "title": "",
          "showTitle": false,
          "inputWidgets": {},
          "nuid": "56970500-890d-4ae1-a170-8395f70c4c58"
        }
      },
      "execution_count": null,
      "outputs": [
        {
          "output_type": "display_data",
          "data": {
            "text/plain": [
              "<pyspark.sql.session.SparkSession object at 0x7f8abf8a9e80>\n"
            ]
          },
          "metadata": {
            "application/vnd.databricks.v1+output": {
              "datasetInfos": [],
              "data": "<pyspark.sql.session.SparkSession object at 0x7f8abf8a9e80>\n",
              "removedWidgets": [],
              "addedWidgets": {},
              "metadata": {},
              "type": "ansi",
              "arguments": {}
            }
          }
        }
      ]
    },
    {
      "cell_type": "code",
      "source": "pivoted_df = spark.read.format(\"dbfs:/FileStore/tables/PysparkTask.xlsx\")",
      "metadata": {
        "application/vnd.databricks.v1+cell": {
          "title": "",
          "showTitle": false,
          "inputWidgets": {},
          "nuid": "93bd4205-dca1-4213-ad05-0f0169a53c4a"
        }
      },
      "execution_count": null,
      "outputs": []
    },
    {
      "cell_type": "code",
      "source": "pivoted_df = data_df.withColumnRenamed('Plant Name', 'PlantName')",
      "metadata": {
        "application/vnd.databricks.v1+cell": {
          "title": "",
          "showTitle": false,
          "inputWidgets": {},
          "nuid": "72084704-b15a-40be-9ad4-e637855454c6"
        }
      },
      "execution_count": null,
      "outputs": []
    },
    {
      "cell_type": "code",
      "source": "pivoted_df.show()",
      "metadata": {
        "application/vnd.databricks.v1+cell": {
          "title": "",
          "showTitle": false,
          "inputWidgets": {},
          "nuid": "fbc7b59a-4257-4709-b7cc-5ea59219ef67"
        }
      },
      "execution_count": null,
      "outputs": [
        {
          "output_type": "display_data",
          "data": {
            "text/plain": [
              "+-------+---------+--------+--------+--------+--------+--------+------+------+------+------+------+\n|Product|PlantName|Sales_18|Sales_19|Sales_20|Sales_21|Sales_22|Inv_18|Inv_19|Inv_20|Inv_21|Inv_22|\n+-------+---------+--------+--------+--------+--------+--------+------+------+------+------+------+\n|     P1|      PL1|   20000|   25000|   19000|   22000|   23000| 13000| 12000| 13000| 13500| 14000|\n|     P2|      PL1|   80000|   90000|   75000|   78000|  100000| 18000| 18000| 18000| 18000| 18000|\n|     P3|      PL3|   35000|   32000|   56000|   40000|   42000| 17000| 20000| 16000| 15000| 15000|\n|     P4|      PL2|   15000|   23000|   42000|   12000|   13000| 13000| 13000| 13000| 13000| 13000|\n|     P5|      PL1|   85000|   19000|   24000|   15000|   13000| 20000| 22000| 23000| 23000| 21000|\n+-------+---------+--------+--------+--------+--------+--------+------+------+------+------+------+\n\n"
            ]
          },
          "metadata": {
            "application/vnd.databricks.v1+output": {
              "datasetInfos": [],
              "data": "+-------+---------+--------+--------+--------+--------+--------+------+------+------+------+------+\n|Product|PlantName|Sales_18|Sales_19|Sales_20|Sales_21|Sales_22|Inv_18|Inv_19|Inv_20|Inv_21|Inv_22|\n+-------+---------+--------+--------+--------+--------+--------+------+------+------+------+------+\n|     P1|      PL1|   20000|   25000|   19000|   22000|   23000| 13000| 12000| 13000| 13500| 14000|\n|     P2|      PL1|   80000|   90000|   75000|   78000|  100000| 18000| 18000| 18000| 18000| 18000|\n|     P3|      PL3|   35000|   32000|   56000|   40000|   42000| 17000| 20000| 16000| 15000| 15000|\n|     P4|      PL2|   15000|   23000|   42000|   12000|   13000| 13000| 13000| 13000| 13000| 13000|\n|     P5|      PL1|   85000|   19000|   24000|   15000|   13000| 20000| 22000| 23000| 23000| 21000|\n+-------+---------+--------+--------+--------+--------+--------+------+------+------+------+------+\n\n",
              "removedWidgets": [],
              "addedWidgets": {},
              "metadata": {},
              "type": "ansi",
              "arguments": {}
            }
          }
        }
      ]
    },
    {
      "cell_type": "code",
      "source": "from pyspark.sql import *",
      "metadata": {
        "application/vnd.databricks.v1+cell": {
          "title": "",
          "showTitle": false,
          "inputWidgets": {},
          "nuid": "c5e9ce84-fea8-4a8b-9bf7-11097ed837bb"
        }
      },
      "execution_count": null,
      "outputs": []
    },
    {
      "cell_type": "code",
      "source": "df.createTempView(\"PlantTable\")",
      "metadata": {
        "application/vnd.databricks.v1+cell": {
          "title": "",
          "showTitle": false,
          "inputWidgets": {},
          "nuid": "66411c18-3da7-44b3-a8ff-604fdcf53f0f"
        }
      },
      "execution_count": null,
      "outputs": []
    },
    {
      "cell_type": "code",
      "source": "spark.sql(\"select Product, PlantName, stack(10, 'Sales_18', Sales_18, 'Sales_19', Sales_19, 'Sales_20' ,Sales_20, 'Sales_21', Sales_21, 'Sales_22', Sales_22, 'Inv_18', Inv_18, 'Inv_19', Inv_19, 'Inv_20', Inv_20, 'Inv_21', Inv_21, 'Inv_22', Inv_22) as (Metric, Value) from PlantTable1\").show(60)",
      "metadata": {
        "application/vnd.databricks.v1+cell": {
          "title": "",
          "showTitle": false,
          "inputWidgets": {},
          "nuid": "35c5f818-e9dd-496f-8364-a9a4513ba0f6"
        }
      },
      "execution_count": null,
      "outputs": [
        {
          "output_type": "display_data",
          "data": {
            "text/plain": [
              "+-------+---------+--------+------+\n|Product|PlantName|  Metric| Value|\n+-------+---------+--------+------+\n|     P1|      PL1|Sales_18| 20000|\n|     P1|      PL1|Sales_19| 25000|\n|     P1|      PL1|Sales_20| 19000|\n|     P1|      PL1|Sales_21| 22000|\n|     P1|      PL1|Sales_22| 23000|\n|     P1|      PL1|  Inv_18| 13000|\n|     P1|      PL1|  Inv_19| 12000|\n|     P1|      PL1|  Inv_20| 13000|\n|     P1|      PL1|  Inv_21| 13500|\n|     P1|      PL1|  Inv_22| 14000|\n|     P2|      PL1|Sales_18| 80000|\n|     P2|      PL1|Sales_19| 90000|\n|     P2|      PL1|Sales_20| 75000|\n|     P2|      PL1|Sales_21| 78000|\n|     P2|      PL1|Sales_22|100000|\n|     P2|      PL1|  Inv_18| 18000|\n|     P2|      PL1|  Inv_19| 18000|\n|     P2|      PL1|  Inv_20| 18000|\n|     P2|      PL1|  Inv_21| 18000|\n|     P2|      PL1|  Inv_22| 18000|\n|     P3|      PL3|Sales_18| 35000|\n|     P3|      PL3|Sales_19| 32000|\n|     P3|      PL3|Sales_20| 56000|\n|     P3|      PL3|Sales_21| 40000|\n|     P3|      PL3|Sales_22| 42000|\n|     P3|      PL3|  Inv_18| 17000|\n|     P3|      PL3|  Inv_19| 20000|\n|     P3|      PL3|  Inv_20| 16000|\n|     P3|      PL3|  Inv_21| 15000|\n|     P3|      PL3|  Inv_22| 15000|\n|     P4|      PL2|Sales_18| 15000|\n|     P4|      PL2|Sales_19| 23000|\n|     P4|      PL2|Sales_20| 42000|\n|     P4|      PL2|Sales_21| 12000|\n|     P4|      PL2|Sales_22| 13000|\n|     P4|      PL2|  Inv_18| 13000|\n|     P4|      PL2|  Inv_19| 13000|\n|     P4|      PL2|  Inv_20| 13000|\n|     P4|      PL2|  Inv_21| 13000|\n|     P4|      PL2|  Inv_22| 13000|\n|     P5|      PL1|Sales_18| 85000|\n|     P5|      PL1|Sales_19| 19000|\n|     P5|      PL1|Sales_20| 24000|\n|     P5|      PL1|Sales_21| 15000|\n|     P5|      PL1|Sales_22| 13000|\n|     P5|      PL1|  Inv_18| 20000|\n|     P5|      PL1|  Inv_19| 22000|\n|     P5|      PL1|  Inv_20| 23000|\n|     P5|      PL1|  Inv_21| 23000|\n|     P5|      PL1|  Inv_22| 21000|\n+-------+---------+--------+------+\n\n"
            ]
          },
          "metadata": {
            "application/vnd.databricks.v1+output": {
              "datasetInfos": [],
              "data": "+-------+---------+--------+------+\n|Product|PlantName|  Metric| Value|\n+-------+---------+--------+------+\n|     P1|      PL1|Sales_18| 20000|\n|     P1|      PL1|Sales_19| 25000|\n|     P1|      PL1|Sales_20| 19000|\n|     P1|      PL1|Sales_21| 22000|\n|     P1|      PL1|Sales_22| 23000|\n|     P1|      PL1|  Inv_18| 13000|\n|     P1|      PL1|  Inv_19| 12000|\n|     P1|      PL1|  Inv_20| 13000|\n|     P1|      PL1|  Inv_21| 13500|\n|     P1|      PL1|  Inv_22| 14000|\n|     P2|      PL1|Sales_18| 80000|\n|     P2|      PL1|Sales_19| 90000|\n|     P2|      PL1|Sales_20| 75000|\n|     P2|      PL1|Sales_21| 78000|\n|     P2|      PL1|Sales_22|100000|\n|     P2|      PL1|  Inv_18| 18000|\n|     P2|      PL1|  Inv_19| 18000|\n|     P2|      PL1|  Inv_20| 18000|\n|     P2|      PL1|  Inv_21| 18000|\n|     P2|      PL1|  Inv_22| 18000|\n|     P3|      PL3|Sales_18| 35000|\n|     P3|      PL3|Sales_19| 32000|\n|     P3|      PL3|Sales_20| 56000|\n|     P3|      PL3|Sales_21| 40000|\n|     P3|      PL3|Sales_22| 42000|\n|     P3|      PL3|  Inv_18| 17000|\n|     P3|      PL3|  Inv_19| 20000|\n|     P3|      PL3|  Inv_20| 16000|\n|     P3|      PL3|  Inv_21| 15000|\n|     P3|      PL3|  Inv_22| 15000|\n|     P4|      PL2|Sales_18| 15000|\n|     P4|      PL2|Sales_19| 23000|\n|     P4|      PL2|Sales_20| 42000|\n|     P4|      PL2|Sales_21| 12000|\n|     P4|      PL2|Sales_22| 13000|\n|     P4|      PL2|  Inv_18| 13000|\n|     P4|      PL2|  Inv_19| 13000|\n|     P4|      PL2|  Inv_20| 13000|\n|     P4|      PL2|  Inv_21| 13000|\n|     P4|      PL2|  Inv_22| 13000|\n|     P5|      PL1|Sales_18| 85000|\n|     P5|      PL1|Sales_19| 19000|\n|     P5|      PL1|Sales_20| 24000|\n|     P5|      PL1|Sales_21| 15000|\n|     P5|      PL1|Sales_22| 13000|\n|     P5|      PL1|  Inv_18| 20000|\n|     P5|      PL1|  Inv_19| 22000|\n|     P5|      PL1|  Inv_20| 23000|\n|     P5|      PL1|  Inv_21| 23000|\n|     P5|      PL1|  Inv_22| 21000|\n+-------+---------+--------+------+\n\n",
              "removedWidgets": [],
              "addedWidgets": {},
              "metadata": {},
              "type": "ansi",
              "arguments": {}
            }
          }
        }
      ]
    },
    {
      "cell_type": "code",
      "source": "",
      "metadata": {
        "application/vnd.databricks.v1+cell": {
          "title": "",
          "showTitle": false,
          "inputWidgets": {},
          "nuid": "91ce0f04-d4e5-4ece-a351-ce5ac40499a0"
        }
      },
      "execution_count": null,
      "outputs": []
    }
  ]
}